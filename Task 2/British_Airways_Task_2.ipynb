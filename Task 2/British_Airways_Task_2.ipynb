{
  "nbformat": 4,
  "nbformat_minor": 0,
  "metadata": {
    "colab": {
      "provenance": []
    },
    "kernelspec": {
      "name": "python3",
      "display_name": "Python 3"
    },
    "language_info": {
      "name": "python"
    }
  },
  "cells": [
    {
      "cell_type": "code",
      "execution_count": 2,
      "metadata": {
        "id": "wEDCIpwmKSvZ"
      },
      "outputs": [],
      "source": [
        "# Standard Libraries\n",
        "import pandas as pd\n",
        "import numpy as np\n",
        "import os\n",
        "import warnings\n",
        "warnings.filterwarnings(\"ignore\")\n",
        "# For visualizations\n",
        "import matplotlib.pyplot as plt\n",
        "%matplotlib inline\n",
        "import seaborn as sns\n",
        "\n",
        "# Data-Prep\n",
        "from sklearn.preprocessing import StandardScaler\n",
        "from sklearn.preprocessing import MinMaxScaler\n",
        "from imblearn.over_sampling import SMOTE\n",
        "\n",
        "# Model Buidling and metrics\n",
        "from sklearn.feature_selection import mutual_info_classif\n",
        "from sklearn.model_selection import train_test_split\n",
        "from sklearn.ensemble import RandomForestClassifier\n",
        "from imblearn.ensemble import BalancedRandomForestClassifier\n",
        "from imblearn.ensemble import EasyEnsembleClassifier\n",
        "from sklearn.metrics import confusion_matrix, classification_report, accuracy_score, roc_auc_score\n",
        "from sklearn.model_selection import cross_val_score"
      ]
    },
    {
      "cell_type": "code",
      "source": [
        "import chardet\n",
        "\n",
        "with open('/content/customer_booking.csv', 'rb') as rawdata:\n",
        "  result = chardet.detect(rawdata.read(100000))\n",
        "\n",
        "print(result)"
      ],
      "metadata": {
        "colab": {
          "base_uri": "https://localhost:8080/"
        },
        "id": "d48yJ3WBNYtK",
        "outputId": "c4aa5ce5-dffe-4891-c421-463f77ba1779"
      },
      "execution_count": 3,
      "outputs": [
        {
          "output_type": "stream",
          "name": "stdout",
          "text": [
            "{'encoding': 'ISO-8859-1', 'confidence': 0.73, 'language': ''}\n"
          ]
        }
      ]
    },
    {
      "cell_type": "code",
      "source": [
        "data = pd.read_csv(\"/content/customer_booking.csv\", encoding=\"ISO-8859-1\")"
      ],
      "metadata": {
        "id": "K3vQM4RZM7w_"
      },
      "execution_count": 60,
      "outputs": []
    },
    {
      "cell_type": "code",
      "source": [
        "data.booking_complete.value_counts()"
      ],
      "metadata": {
        "colab": {
          "base_uri": "https://localhost:8080/"
        },
        "id": "6lZycAiDQOVW",
        "outputId": "2ce6e5a1-585f-426b-c9a9-6ed7371970c8"
      },
      "execution_count": 61,
      "outputs": [
        {
          "output_type": "execute_result",
          "data": {
            "text/plain": [
              "0    42522\n",
              "1     7478\n",
              "Name: booking_complete, dtype: int64"
            ]
          },
          "metadata": {},
          "execution_count": 61
        }
      ]
    },
    {
      "cell_type": "markdown",
      "source": [
        "Exploratory Data Analysis"
      ],
      "metadata": {
        "id": "VIYtugkqN-W3"
      }
    },
    {
      "cell_type": "code",
      "source": [
        "data.info()"
      ],
      "metadata": {
        "colab": {
          "base_uri": "https://localhost:8080/"
        },
        "id": "WAOHMuFoNLyr",
        "outputId": "b496ffbe-2d19-4482-dea9-45a8f052b0b5"
      },
      "execution_count": 50,
      "outputs": [
        {
          "output_type": "stream",
          "name": "stdout",
          "text": [
            "<class 'pandas.core.frame.DataFrame'>\n",
            "RangeIndex: 50000 entries, 0 to 49999\n",
            "Data columns (total 14 columns):\n",
            " #   Column                 Non-Null Count  Dtype  \n",
            "---  ------                 --------------  -----  \n",
            " 0   num_passengers         50000 non-null  int64  \n",
            " 1   sales_channel          50000 non-null  object \n",
            " 2   trip_type              50000 non-null  object \n",
            " 3   purchase_lead          50000 non-null  int64  \n",
            " 4   length_of_stay         50000 non-null  int64  \n",
            " 5   flight_hour            50000 non-null  int64  \n",
            " 6   flight_day             50000 non-null  object \n",
            " 7   route                  50000 non-null  object \n",
            " 8   booking_origin         50000 non-null  object \n",
            " 9   wants_extra_baggage    50000 non-null  int64  \n",
            " 10  wants_preferred_seat   50000 non-null  int64  \n",
            " 11  wants_in_flight_meals  50000 non-null  int64  \n",
            " 12  flight_duration        50000 non-null  float64\n",
            " 13  booking_complete       50000 non-null  int64  \n",
            "dtypes: float64(1), int64(8), object(5)\n",
            "memory usage: 5.3+ MB\n"
          ]
        }
      ]
    },
    {
      "cell_type": "markdown",
      "source": [
        "No Null values"
      ],
      "metadata": {
        "id": "8AoF3KiuODMK"
      }
    },
    {
      "cell_type": "code",
      "source": [
        "# Separating categorical and numerical columns\n",
        "data_categorical = data.select_dtypes(include=\"object\")\n",
        "data_numerical = data.select_dtypes(exclude=\"object\")"
      ],
      "metadata": {
        "id": "0QZ1d3imNxMU"
      },
      "execution_count": 62,
      "outputs": []
    },
    {
      "cell_type": "code",
      "source": [
        "for col in data_categorical:\n",
        "    print(data_categorical[col].value_counts())\n",
        "    print(\"\\n\")"
      ],
      "metadata": {
        "colab": {
          "base_uri": "https://localhost:8080/"
        },
        "id": "IFVgCElHOK1d",
        "outputId": "4fe652b8-6f91-47ef-949c-4919d6429f44"
      },
      "execution_count": 63,
      "outputs": [
        {
          "output_type": "stream",
          "name": "stdout",
          "text": [
            "Internet    44382\n",
            "Mobile       5618\n",
            "Name: sales_channel, dtype: int64\n",
            "\n",
            "\n",
            "RoundTrip     49497\n",
            "OneWay          387\n",
            "CircleTrip      116\n",
            "Name: trip_type, dtype: int64\n",
            "\n",
            "\n",
            "Mon    8102\n",
            "Wed    7674\n",
            "Tue    7673\n",
            "Thu    7424\n",
            "Fri    6761\n",
            "Sun    6554\n",
            "Sat    5812\n",
            "Name: flight_day, dtype: int64\n",
            "\n",
            "\n",
            "AKLKUL    2680\n",
            "PENTPE     924\n",
            "MELSGN     842\n",
            "ICNSIN     801\n",
            "DMKKIX     744\n",
            "          ... \n",
            "LBUTPE       1\n",
            "CXRMEL       1\n",
            "DELKBR       1\n",
            "KOSSYD       1\n",
            "MRUXIY       1\n",
            "Name: route, Length: 799, dtype: int64\n",
            "\n",
            "\n",
            "Australia               17872\n",
            "Malaysia                 7174\n",
            "South Korea              4559\n",
            "Japan                    3885\n",
            "China                    3387\n",
            "                        ...  \n",
            "Panama                      1\n",
            "Tonga                       1\n",
            "Tanzania                    1\n",
            "Bulgaria                    1\n",
            "Svalbard & Jan Mayen        1\n",
            "Name: booking_origin, Length: 104, dtype: int64\n",
            "\n",
            "\n"
          ]
        }
      ]
    },
    {
      "cell_type": "markdown",
      "source": [
        "Outlier Detection"
      ],
      "metadata": {
        "id": "CMGcL-jEPMjw"
      }
    },
    {
      "cell_type": "code",
      "source": [
        "# Plotting boxplot for detecting outliers\n",
        "plt.figure(figsize=(19,5))\n",
        "sns.boxplot(data = data_numerical)\n",
        "plt.show()"
      ],
      "metadata": {
        "colab": {
          "base_uri": "https://localhost:8080/",
          "height": 413
        },
        "id": "5De7XCTWPGAd",
        "outputId": "b93f7d5c-60f4-42f4-d200-a3f42d40cf0a"
      },
      "execution_count": 53,
      "outputs": [
        {
          "output_type": "display_data",
          "data": {
            "text/plain": [
              "<Figure size 1900x500 with 1 Axes>"
            ],
            "image/png": "[encoded data removed]"
          },
          "metadata": {}
        }
      ]
    },
    {
      "cell_type": "code",
      "source": [
        "# Replacing outliers with median\n",
        "#function to return a list of index of outliers\n",
        "column_list = ['num_passengers', 'purchase_lead', 'length_of_stay', 'flight_hour',\n",
        "       'wants_extra_baggage', 'wants_preferred_seat', 'wants_in_flight_meals',\n",
        "       'flight_duration']\n",
        "for feature in column_list:\n",
        "    Q1= data_numerical[feature].quantile(0.25)\n",
        "    Q3 =data_numerical[feature].quantile(0.75)\n",
        "    IQR = Q3 - Q1\n",
        "    lower_limit = Q1 - 1.5 * IQR\n",
        "    upper_limit = Q3 + 1.5 * IQR\n",
        "    median = data_numerical[feature].median()\n",
        "\n",
        "    data_numerical[feature] = np.where(data_numerical[feature]< lower_limit, median,data_numerical[feature])\n",
        "    data_numerical[feature] = np.where(data_numerical[feature]> upper_limit, median,data_numerical[feature])"
      ],
      "metadata": {
        "id": "ZG02cXcAPRiu"
      },
      "execution_count": 64,
      "outputs": []
    },
    {
      "cell_type": "markdown",
      "source": [
        "Mutual Information classifier"
      ],
      "metadata": {
        "id": "5MvqintXy65R"
      }
    },
    {
      "cell_type": "code",
      "source": [
        "# combining numerical and categorical column data\n",
        "df = pd.concat([data_categorical,data_numerical], axis =1)"
      ],
      "metadata": {
        "id": "TLQr7bUUy2tw"
      },
      "execution_count": 65,
      "outputs": []
    },
    {
      "cell_type": "code",
      "source": [
        "# Separating dependent and independent variables\n",
        "X = df.drop([\"booking_complete\"] , axis=1)\n",
        "y = df[\"booking_complete\"]"
      ],
      "metadata": {
        "id": "319hd1xKy-xr"
      },
      "execution_count": 66,
      "outputs": []
    },
    {
      "cell_type": "code",
      "source": [
        "#changing object dtype to int dtype\n",
        "for colname in X.select_dtypes(\"object\"):\n",
        "    X[colname], _ = X[colname].factorize()"
      ],
      "metadata": {
        "id": "Unn5XLKT5riN"
      },
      "execution_count": 67,
      "outputs": []
    },
    {
      "cell_type": "code",
      "source": [
        "mi_scores = mutual_info_classif(X, y)\n",
        "mi_scores = pd.Series(mi_scores, name=\"MI Scores\", index=X.columns)\n",
        "mi_scores = mi_scores.sort_values(ascending=False)\n",
        "\n",
        "mi_scores"
      ],
      "metadata": {
        "colab": {
          "base_uri": "https://localhost:8080/"
        },
        "id": "209YAHKKzCwG",
        "outputId": "e0cc0a0c-c7eb-493a-ba0b-5210564e84d9"
      },
      "execution_count": 68,
      "outputs": [
        {
          "output_type": "execute_result",
          "data": {
            "text/plain": [
              "route                    0.053111\n",
              "booking_origin           0.046963\n",
              "flight_duration          0.020104\n",
              "wants_extra_baggage      0.010424\n",
              "length_of_stay           0.008674\n",
              "num_passengers           0.005266\n",
              "flight_day               0.005191\n",
              "wants_preferred_seat     0.003149\n",
              "flight_hour              0.002266\n",
              "purchase_lead            0.001740\n",
              "wants_in_flight_meals    0.001678\n",
              "sales_channel            0.000203\n",
              "trip_type                0.000000\n",
              "Name: MI Scores, dtype: float64"
            ]
          },
          "metadata": {},
          "execution_count": 68
        }
      ]
    },
    {
      "cell_type": "code",
      "source": [
        "# Sort the scores in ascending order\n",
        "mi_scores = mi_scores.sort_values(ascending=True)\n",
        "\n",
        "# Define a color palette\n",
        "colors = plt.cm.viridis(np.linspace(0, 1, len(mi_scores)))\n",
        "\n",
        "# Create the bar plot\n",
        "plt.figure(dpi=90, figsize=(8, 6))\n",
        "bars = plt.barh(mi_scores.index, mi_scores, color=colors, edgecolor='none')\n",
        "\n",
        "# Add labels and title\n",
        "plt.xlabel('Relative importance score')\n",
        "plt.title('Feature Importance')\n",
        "\n",
        "# Remove borders\n",
        "plt.box(False)\n",
        "\n",
        "# Add labels to the bars\n",
        "for bar, score in zip(bars, mi_scores):\n",
        "    plt.text(bar.get_width() + 0.001, bar.get_y() + bar.get_height() / 2, f'{score:.4f}', ha='left', va='center', fontsize=8)\n",
        "\n",
        "plt.show()"
      ],
      "metadata": {
        "colab": {
          "base_uri": "https://localhost:8080/",
          "height": 510
        },
        "id": "nIw8HZt-2YXG",
        "outputId": "7412b789-cb48-458a-e958-f760a303a9a5"
      },
      "execution_count": 87,
      "outputs": [
        {
          "output_type": "display_data",
          "data": {
            "text/plain": [
              "<Figure size 720x540 with 1 Axes>"
            ],
            "image/png": "[encoded data removed]"
          },
          "metadata": {}
        }
      ]
    },
    {
      "cell_type": "markdown",
      "source": [
        "Prepping data for modelling\n"
      ],
      "metadata": {
        "id": "Ojddqcy07gUC"
      }
    },
    {
      "cell_type": "code",
      "source": [
        "#test train data split\n",
        "def dataset(X,y):\n",
        "    X_train, X_test, y_train, y_test = train_test_split(X, y, test_size = 0.25, random_state = 0)\n",
        "    return(X_train, X_test, y_train, y_test)"
      ],
      "metadata": {
        "id": "NKg6bjfk3tIB"
      },
      "execution_count": 21,
      "outputs": []
    },
    {
      "cell_type": "code",
      "source": [
        "# Scaling the factors\n",
        "def scale(X):\n",
        "    scaler = MinMaxScaler()\n",
        "    scaler.fit(X)\n",
        "    return X"
      ],
      "metadata": {
        "id": "lim4YziD7kD_"
      },
      "execution_count": 17,
      "outputs": []
    },
    {
      "cell_type": "code",
      "source": [
        "# using imblearn to removing imablance in our dataset\n",
        "def smoteTeq(X,y):\n",
        "    smote = SMOTE()\n",
        "    X_smote, y_smote = smote.fit_resample(scale(X), y)\n",
        "    # print(X_smote.shape)\n",
        "    # print(y_smote.shape)\n",
        "    return X_smote, y_smote"
      ],
      "metadata": {
        "id": "06x6blz-FQ7U"
      },
      "execution_count": 18,
      "outputs": []
    },
    {
      "cell_type": "code",
      "source": [
        "# function to print accuracy and roc - auc scores\n",
        "def scores(y_test,y_pred):\n",
        "    accuracy = accuracy_score(y_test,y_pred)*100\n",
        "    auc_score = roc_auc_score(y_test,y_pred)\n",
        "    return accuracy, auc_score"
      ],
      "metadata": {
        "id": "km-LGgbnRSD-"
      },
      "execution_count": 36,
      "outputs": []
    },
    {
      "cell_type": "code",
      "source": [
        "#assigning the features under a list\n",
        "features=['route','booking_origin','flight_duration','wants_extra_baggage', 'length_of_stay', 'num_passengers', 'flight_day']\n",
        "X= df[features]\n",
        "#one hot encoding\n",
        "X = pd.get_dummies(X, columns=features)\n",
        "X= scale(X)\n",
        "y= df.booking_complete\n",
        "X, y = smoteTeq(X,y)\n",
        "X_train,X_test,y_train,y_test= dataset(X,y)"
      ],
      "metadata": {
        "id": "bI0WbR-i8-Cd"
      },
      "execution_count": 70,
      "outputs": []
    },
    {
      "cell_type": "markdown",
      "source": [
        "Random forest Classfier with best 7 features"
      ],
      "metadata": {
        "id": "cIKH1eQzEFY2"
      }
    },
    {
      "cell_type": "code",
      "source": [
        "forest_model= RandomForestClassifier(n_estimators=56, random_state=1)\n",
        "forest_model.fit(X_train, y_train)\n",
        "# Make predictions on the test set\n",
        "y_pred_rf= forest_model.predict(X_test)\n",
        "print(\"Accuracy: {:.2f}%, \\nAUC Score: {:.4f}\".format(*scores(y_test, y_pred_rf)))"
      ],
      "metadata": {
        "colab": {
          "base_uri": "https://localhost:8080/"
        },
        "id": "9pvAacYVNCuO",
        "outputId": "1462fdf9-23a1-451c-ebe4-d191006ff9cd"
      },
      "execution_count": 71,
      "outputs": [
        {
          "output_type": "stream",
          "name": "stdout",
          "text": [
            "Accuracy: 90.33%, \n",
            "AUC Score: 0.9033\n"
          ]
        }
      ]
    },
    {
      "cell_type": "markdown",
      "source": [
        "Balanced Random Forest Classifier with best 7 features"
      ],
      "metadata": {
        "id": "zvgZJxhyEYGv"
      }
    },
    {
      "cell_type": "code",
      "source": [
        "brf_classifier = BalancedRandomForestClassifier(n_estimators=56, random_state=42)\n",
        "brf_classifier.fit(X_train, y_train)\n",
        "# Make predictions on the test set\n",
        "y_pred_brf = brf_classifier.predict(X_test)\n",
        "print(\"Accuracy: {:.2f}%, \\nAUC Score: {:.4f}\".format(*scores(y_test, y_pred_brf)))"
      ],
      "metadata": {
        "colab": {
          "base_uri": "https://localhost:8080/"
        },
        "id": "d5ufvYE8EQV9",
        "outputId": "21912c3e-4e2e-44dc-8df6-7eb157754cd6"
      },
      "execution_count": 72,
      "outputs": [
        {
          "output_type": "stream",
          "name": "stdout",
          "text": [
            "Accuracy: 90.27%, \n",
            "AUC Score: 0.9028\n"
          ]
        }
      ]
    },
    {
      "cell_type": "markdown",
      "source": [
        "Easy Ensemble Classifier with best 7 features"
      ],
      "metadata": {
        "id": "cMqLz0bLEIev"
      }
    },
    {
      "cell_type": "code",
      "source": [
        "# Create and train an EasyEnsemble classifier\n",
        "ee_classifier = EasyEnsembleClassifier(n_estimators=56, random_state=101)\n",
        "ee_classifier.fit(X_train, y_train)\n",
        "# Make predictions on the test set\n",
        "y_pred_ee = ee_classifier.predict(X_test)\n",
        "print(\"Accuracy: {:.2f}%, \\nAUC Score: {:.4f}\".format(*scores(y_test, y_pred_ee)))"
      ],
      "metadata": {
        "id": "Ge6uP8p29tl7"
      },
      "execution_count": null,
      "outputs": []
    },
    {
      "cell_type": "code",
      "source": [
        "X= df.drop('booking_complete', axis=1)\n",
        "#one hot encoding\n",
        "X = pd.get_dummies(X)\n",
        "X= scale(X)\n",
        "y= df.booking_complete\n",
        "X, y = smoteTeq(X,y)\n",
        "X_train,X_test,y_train,y_test= dataset(X,y)"
      ],
      "metadata": {
        "id": "SN_aQEuCQjDV"
      },
      "execution_count": 73,
      "outputs": []
    },
    {
      "cell_type": "markdown",
      "source": [
        "Random forest Classifier with all features"
      ],
      "metadata": {
        "id": "iFh-fq8vP6ZB"
      }
    },
    {
      "cell_type": "code",
      "source": [
        "forest_model= RandomForestClassifier(n_estimators=56, random_state=1)\n",
        "forest_model.fit(X_train, y_train)\n",
        "y_pred_rf= forest_model.predict(X_test)\n",
        "print('ACCURACY:{:0.2f}% \\nAUC score:{:0.4f}'.format(*scores(y_test,y_pred_rf)))"
      ],
      "metadata": {
        "id": "unuY3w5Y_IZk",
        "colab": {
          "base_uri": "https://localhost:8080/"
        },
        "outputId": "b47fc628-6785-4a0e-eb4d-50b98a101ffe"
      },
      "execution_count": 74,
      "outputs": [
        {
          "output_type": "stream",
          "name": "stdout",
          "text": [
            "ACCURACY:90.93% \n",
            "AUC score:0.9094\n"
          ]
        }
      ]
    },
    {
      "cell_type": "code",
      "source": [
        "print(classification_report(y_test, y_pred_rf))"
      ],
      "metadata": {
        "colab": {
          "base_uri": "https://localhost:8080/"
        },
        "id": "iYAtC4vQ0eoU",
        "outputId": "f8d8b0f9-7180-4f63-cdd2-a1e0c3d8ab43"
      },
      "execution_count": 98,
      "outputs": [
        {
          "output_type": "stream",
          "name": "stdout",
          "text": [
            "              precision    recall  f1-score   support\n",
            "\n",
            "           0       0.87      0.96      0.91     10607\n",
            "           1       0.95      0.86      0.91     10654\n",
            "\n",
            "    accuracy                           0.91     21261\n",
            "   macro avg       0.91      0.91      0.91     21261\n",
            "weighted avg       0.91      0.91      0.91     21261\n",
            "\n"
          ]
        }
      ]
    },
    {
      "cell_type": "code",
      "source": [
        "rf_imp_features = pd.DataFrame({'features':X_train.columns,'importance':np.round(forest_model.feature_importances_,3)})\n",
        "rf_imp_features = rf_imp_features.sort_values('importance',ascending=False)\n",
        "rf_imp_features"
      ],
      "metadata": {
        "colab": {
          "base_uri": "https://localhost:8080/",
          "height": 682
        },
        "id": "BLJzmYgRxGbU",
        "outputId": "b46e98bd-c4f7-407c-b23d-9f672a8adfeb"
      },
      "execution_count": 96,
      "outputs": [
        {
          "output_type": "execute_result",
          "data": {
            "text/plain": [
              "                     features  importance\n",
              "823  booking_origin_Australia       0.094\n",
              "1               purchase_lead       0.067\n",
              "2              length_of_stay       0.063\n",
              "3                 flight_hour       0.059\n",
              "6       wants_in_flight_meals       0.059\n",
              "..                        ...         ...\n",
              "90               route_BWNHGH       0.000\n",
              "392              route_HKTKTM       0.000\n",
              "89               route_BWNDEL       0.000\n",
              "394              route_HKTMRU       0.000\n",
              "461              route_ICNVTE       0.000\n",
              "\n",
              "[923 rows x 2 columns]"
            ],
            "text/html": [
              "\n",
              "  <div id=\"df-4dc69818-a879-40b8-8554-86f969ba6c08\" class=\"colab-df-container\">\n",
              "    <div>\n",
              "<style scoped>\n",
              "    .dataframe tbody tr th:only-of-type {\n",
              "        vertical-align: middle;\n",
              "    }\n",
              "\n",
              "    .dataframe tbody tr th {\n",
              "        vertical-align: top;\n",
              "    }\n",
              "\n",
              "    .dataframe thead th {\n",
              "        text-align: right;\n",
              "    }\n",
              "</style>\n",
              "<table border=\"1\" class=\"dataframe\">\n",
              "  <thead>\n",
              "    <tr style=\"text-align: right;\">\n",
              "      <th></th>\n",
              "      <th>features</th>\n",
              "      <th>importance</th>\n",
              "    </tr>\n",
              "  </thead>\n",
              "  <tbody>\n",
              "    <tr>\n",
              "      <th>823</th>\n",
              "      <td>booking_origin_Australia</td>\n",
              "      <td>0.094</td>\n",
              "    </tr>\n",
              "    <tr>\n",
              "      <th>1</th>\n",
              "      <td>purchase_lead</td>\n",
              "      <td>0.067</td>\n",
              "    </tr>\n",
              "    <tr>\n",
              "      <th>2</th>\n",
              "      <td>length_of_stay</td>\n",
              "      <td>0.063</td>\n",
              "    </tr>\n",
              "    <tr>\n",
              "      <th>3</th>\n",
              "      <td>flight_hour</td>\n",
              "      <td>0.059</td>\n",
              "    </tr>\n",
              "    <tr>\n",
              "      <th>6</th>\n",
              "      <td>wants_in_flight_meals</td>\n",
              "      <td>0.059</td>\n",
              "    </tr>\n",
              "    <tr>\n",
              "      <th>...</th>\n",
              "      <td>...</td>\n",
              "      <td>...</td>\n",
              "    </tr>\n",
              "    <tr>\n",
              "      <th>90</th>\n",
              "      <td>route_BWNHGH</td>\n",
              "      <td>0.000</td>\n",
              "    </tr>\n",
              "    <tr>\n",
              "      <th>392</th>\n",
              "      <td>route_HKTKTM</td>\n",
              "      <td>0.000</td>\n",
              "    </tr>\n",
              "    <tr>\n",
              "      <th>89</th>\n",
              "      <td>route_BWNDEL</td>\n",
              "      <td>0.000</td>\n",
              "    </tr>\n",
              "    <tr>\n",
              "      <th>394</th>\n",
              "      <td>route_HKTMRU</td>\n",
              "      <td>0.000</td>\n",
              "    </tr>\n",
              "    <tr>\n",
              "      <th>461</th>\n",
              "      <td>route_ICNVTE</td>\n",
              "      <td>0.000</td>\n",
              "    </tr>\n",
              "  </tbody>\n",
              "</table>\n",
              "<p>923 rows × 2 columns</p>\n",
              "</div>\n",
              "    <div class=\"colab-df-buttons\">\n",
              "\n",
              "  <div class=\"colab-df-container\">\n",
              "    <button class=\"colab-df-convert\" onclick=\"convertToInteractive('df-4dc69818-a879-40b8-8554-86f969ba6c08')\"\n",
              "            title=\"Convert this dataframe to an interactive table.\"\n",
              "            style=\"display:none;\">\n",
              "\n",
              "  <svg xmlns=\"http://www.w3.org/2000/svg\" height=\"24px\" viewBox=\"0 -960 960 960\">\n",
              "    <path d=\"M120-120v-720h720v720H120Zm60-500h600v-160H180v160Zm220 220h160v-160H400v160Zm0 220h160v-160H400v160ZM180-400h160v-160H180v160Zm440 0h160v-160H620v160ZM180-180h160v-160H180v160Zm440 0h160v-160H620v160Z\"/>\n",
              "  </svg>\n",
              "    </button>\n",
              "\n",
              "  <style>\n",
              "    .colab-df-container {\n",
              "      display:flex;\n",
              "      gap: 12px;\n",
              "    }\n",
              "\n",
              "    .colab-df-convert {\n",
              "      background-color: #E8F0FE;\n",
              "      border: none;\n",
              "      border-radius: 50%;\n",
              "      cursor: pointer;\n",
              "      display: none;\n",
              "      fill: #1967D2;\n",
              "      height: 32px;\n",
              "      padding: 0 0 0 0;\n",
              "      width: 32px;\n",
              "    }\n",
              "\n",
              "    .colab-df-convert:hover {\n",
              "      background-color: #E2EBFA;\n",
              "      box-shadow: 0px 1px 2px rgba(60, 64, 67, 0.3), 0px 1px 3px 1px rgba(60, 64, 67, 0.15);\n",
              "      fill: #174EA6;\n",
              "    }\n",
              "\n",
              "    .colab-df-buttons div {\n",
              "      margin-bottom: 4px;\n",
              "    }\n",
              "\n",
              "    [theme=dark] .colab-df-convert {\n",
              "      background-color: #3B4455;\n",
              "      fill: #D2E3FC;\n",
              "    }\n",
              "\n",
              "    [theme=dark] .colab-df-convert:hover {\n",
              "      background-color: #434B5C;\n",
              "      box-shadow: 0px 1px 3px 1px rgba(0, 0, 0, 0.15);\n",
              "      filter: drop-shadow(0px 1px 2px rgba(0, 0, 0, 0.3));\n",
              "      fill: #FFFFFF;\n",
              "    }\n",
              "  </style>\n",
              "\n",
              "    <script>\n",
              "      const buttonEl =\n",
              "        document.querySelector('#df-4dc69818-a879-40b8-8554-86f969ba6c08 button.colab-df-convert');\n",
              "      buttonEl.style.display =\n",
              "        google.colab.kernel.accessAllowed ? 'block' : 'none';\n",
              "\n",
              "      async function convertToInteractive(key) {\n",
              "        const element = document.querySelector('#df-4dc69818-a879-40b8-8554-86f969ba6c08');\n",
              "        const dataTable =\n",
              "          await google.colab.kernel.invokeFunction('convertToInteractive',\n",
              "                                                    [key], {});\n",
              "        if (!dataTable) return;\n",
              "\n",
              "        const docLinkHtml = 'Like what you see? Visit the ' +\n",
              "          '<a target=\"_blank\" href=https://colab.research.google.com/notebooks/data_table.ipynb>data table notebook</a>'\n",
              "          + ' to learn more about interactive tables.';\n",
              "        element.innerHTML = '';\n",
              "        dataTable['output_type'] = 'display_data';\n",
              "        await google.colab.output.renderOutput(dataTable, element);\n",
              "        const docLink = document.createElement('div');\n",
              "        docLink.innerHTML = docLinkHtml;\n",
              "        element.appendChild(docLink);\n",
              "      }\n",
              "    </script>\n",
              "  </div>\n",
              "\n",
              "\n",
              "<div id=\"df-7d0cb5ac-822d-4e33-af4f-c5f44eb22b19\">\n",
              "  <button class=\"colab-df-quickchart\" onclick=\"quickchart('df-7d0cb5ac-822d-4e33-af4f-c5f44eb22b19')\"\n",
              "            title=\"Suggest charts\"\n",
              "            style=\"display:none;\">\n",
              "\n",
              "<svg xmlns=\"http://www.w3.org/2000/svg\" height=\"24px\"viewBox=\"0 0 24 24\"\n",
              "     width=\"24px\">\n",
              "    <g>\n",
              "        <path d=\"M19 3H5c-1.1 0-2 .9-2 2v14c0 1.1.9 2 2 2h14c1.1 0 2-.9 2-2V5c0-1.1-.9-2-2-2zM9 17H7v-7h2v7zm4 0h-2V7h2v10zm4 0h-2v-4h2v4z\"/>\n",
              "    </g>\n",
              "</svg>\n",
              "  </button>\n",
              "\n",
              "<style>\n",
              "  .colab-df-quickchart {\n",
              "      --bg-color: #E8F0FE;\n",
              "      --fill-color: #1967D2;\n",
              "      --hover-bg-color: #E2EBFA;\n",
              "      --hover-fill-color: #174EA6;\n",
              "      --disabled-fill-color: #AAA;\n",
              "      --disabled-bg-color: #DDD;\n",
              "  }\n",
              "\n",
              "  [theme=dark] .colab-df-quickchart {\n",
              "      --bg-color: #3B4455;\n",
              "      --fill-color: #D2E3FC;\n",
              "      --hover-bg-color: #434B5C;\n",
              "      --hover-fill-color: #FFFFFF;\n",
              "      --disabled-bg-color: #3B4455;\n",
              "      --disabled-fill-color: #666;\n",
              "  }\n",
              "\n",
              "  .colab-df-quickchart {\n",
              "    background-color: var(--bg-color);\n",
              "    border: none;\n",
              "    border-radius: 50%;\n",
              "    cursor: pointer;\n",
              "    display: none;\n",
              "    fill: var(--fill-color);\n",
              "    height: 32px;\n",
              "    padding: 0;\n",
              "    width: 32px;\n",
              "  }\n",
              "\n",
              "  .colab-df-quickchart:hover {\n",
              "    background-color: var(--hover-bg-color);\n",
              "    box-shadow: 0 1px 2px rgba(60, 64, 67, 0.3), 0 1px 3px 1px rgba(60, 64, 67, 0.15);\n",
              "    fill: var(--button-hover-fill-color);\n",
              "  }\n",
              "\n",
              "  .colab-df-quickchart-complete:disabled,\n",
              "  .colab-df-quickchart-complete:disabled:hover {\n",
              "    background-color: var(--disabled-bg-color);\n",
              "    fill: var(--disabled-fill-color);\n",
              "    box-shadow: none;\n",
              "  }\n",
              "\n",
              "  .colab-df-spinner {\n",
              "    border: 2px solid var(--fill-color);\n",
              "    border-color: transparent;\n",
              "    border-bottom-color: var(--fill-color);\n",
              "    animation:\n",
              "      spin 1s steps(1) infinite;\n",
              "  }\n",
              "\n",
              "  @keyframes spin {\n",
              "    0% {\n",
              "      border-color: transparent;\n",
              "      border-bottom-color: var(--fill-color);\n",
              "      border-left-color: var(--fill-color);\n",
              "    }\n",
              "    20% {\n",
              "      border-color: transparent;\n",
              "      border-left-color: var(--fill-color);\n",
              "      border-top-color: var(--fill-color);\n",
              "    }\n",
              "    30% {\n",
              "      border-color: transparent;\n",
              "      border-left-color: var(--fill-color);\n",
              "      border-top-color: var(--fill-color);\n",
              "      border-right-color: var(--fill-color);\n",
              "    }\n",
              "    40% {\n",
              "      border-color: transparent;\n",
              "      border-right-color: var(--fill-color);\n",
              "      border-top-color: var(--fill-color);\n",
              "    }\n",
              "    60% {\n",
              "      border-color: transparent;\n",
              "      border-right-color: var(--fill-color);\n",
              "    }\n",
              "    80% {\n",
              "      border-color: transparent;\n",
              "      border-right-color: var(--fill-color);\n",
              "      border-bottom-color: var(--fill-color);\n",
              "    }\n",
              "    90% {\n",
              "      border-color: transparent;\n",
              "      border-bottom-color: var(--fill-color);\n",
              "    }\n",
              "  }\n",
              "</style>\n",
              "\n",
              "  <script>\n",
              "    async function quickchart(key) {\n",
              "      const quickchartButtonEl =\n",
              "        document.querySelector('#' + key + ' button');\n",
              "      quickchartButtonEl.disabled = true;  // To prevent multiple clicks.\n",
              "      quickchartButtonEl.classList.add('colab-df-spinner');\n",
              "      try {\n",
              "        const charts = await google.colab.kernel.invokeFunction(\n",
              "            'suggestCharts', [key], {});\n",
              "      } catch (error) {\n",
              "        console.error('Error during call to suggestCharts:', error);\n",
              "      }\n",
              "      quickchartButtonEl.classList.remove('colab-df-spinner');\n",
              "      quickchartButtonEl.classList.add('colab-df-quickchart-complete');\n",
              "    }\n",
              "    (() => {\n",
              "      let quickchartButtonEl =\n",
              "        document.querySelector('#df-7d0cb5ac-822d-4e33-af4f-c5f44eb22b19 button');\n",
              "      quickchartButtonEl.style.display =\n",
              "        google.colab.kernel.accessAllowed ? 'block' : 'none';\n",
              "    })();\n",
              "  </script>\n",
              "</div>\n",
              "    </div>\n",
              "  </div>\n"
            ]
          },
          "metadata": {},
          "execution_count": 96
        }
      ]
    },
    {
      "cell_type": "markdown",
      "source": [
        "Balanced Randomforest Classifier with all features"
      ],
      "metadata": {
        "id": "xiiazy_yQAHK"
      }
    },
    {
      "cell_type": "code",
      "source": [
        "brf_classifier = BalancedRandomForestClassifier(n_estimators=56, random_state=42)\n",
        "brf_classifier.fit(X_train, y_train)\n",
        "# Make predictions on the test set\n",
        "y_pred_brf = brf_classifier.predict(X_test)\n",
        "print('ACCURACY:{:0.2f}% \\nAUC score:{:0.4f}'.format(*scores(y_test,y_pred_brf)))"
      ],
      "metadata": {
        "id": "VAvTc9w_P_v4",
        "colab": {
          "base_uri": "https://localhost:8080/"
        },
        "outputId": "4c4de65d-b066-47a9-dfac-d2c3ba5b4318"
      },
      "execution_count": 75,
      "outputs": [
        {
          "output_type": "stream",
          "name": "stdout",
          "text": [
            "ACCURACY:90.93% \n",
            "AUC score:0.9094\n"
          ]
        }
      ]
    },
    {
      "cell_type": "markdown",
      "source": [
        "Easy ensemble classifier with all features"
      ],
      "metadata": {
        "id": "ceK2HVd4QFV-"
      }
    },
    {
      "cell_type": "code",
      "source": [
        "# Create and train an EasyEnsemble classifier\n",
        "ee_classifier = EasyEnsembleClassifier(n_estimators=56, random_state=101)\n",
        "ee_classifier.fit(X_train, y_train)\n",
        "\n",
        "# Make predictions on the test set\n",
        "y_pred_ee = ee_classifier.predict(X_test)\n",
        "print('ACCURACY:{:0.2f}% \\nAUC score:{:0.4f}'.format(*scores(y_test,y_pred_ee)))"
      ],
      "metadata": {
        "id": "vL3f6DT_QKHP"
      },
      "execution_count": null,
      "outputs": []
    }
  ]
}